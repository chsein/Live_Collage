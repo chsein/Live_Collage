{
 "cells": [
  {
   "cell_type": "code",
<<<<<<< HEAD
   "execution_count": 1,
=======
   "execution_count": 4,
>>>>>>> origin/jiho
   "metadata": {},
   "outputs": [
    {
     "name": "stdout",
     "output_type": "stream",
     "text": [
      "중요한 자료\n"
     ]
    }
   ],
   "source": [
    "print(\"중요한 자료\")"
   ]
  },
  {
   "cell_type": "code",
<<<<<<< HEAD
   "execution_count": 1,
=======
   "execution_count": 5,
>>>>>>> origin/jiho
   "metadata": {},
   "outputs": [
    {
     "name": "stdout",
     "output_type": "stream",
     "text": [
      "강현수정222\n",
      "2강현수정222\n"
     ]
    }
   ],
   "source": [
    "print(\"강현수정222\")\n",
    "print(\"2강현수정222\")"
   ]
  },
  {
   "cell_type": "code",
<<<<<<< HEAD
   "execution_count": 3,
=======
   "execution_count": 6,
>>>>>>> origin/jiho
   "metadata": {},
   "outputs": [
    {
     "name": "stdout",
     "output_type": "stream",
     "text": [
      "세인수정333\n"
     ]
    }
   ],
   "source": [
    "print(\"세인수정333\")"
   ]
  },
  {
   "cell_type": "code",
<<<<<<< HEAD
   "execution_count": null,
   "metadata": {},
   "outputs": [],
   "source": [
    "print(\"우원수정444\")"
   ]
=======
   "execution_count": 7,
   "metadata": {},
   "outputs": [
    {
     "name": "stdout",
     "output_type": "stream",
     "text": [
      "우원수정444\n"
     ]
    }
   ],
   "source": [
    "print(\"우원수정444\")"
   ]
  },
  {
   "cell_type": "code",
   "execution_count": 8,
   "metadata": {},
   "outputs": [
    {
     "name": "stdout",
     "output_type": "stream",
     "text": [
      "저도 수정하고싶어요 어라어ㅏㅏㅏ\n"
     ]
    }
   ],
   "source": [
    "print(\"저도 수정하고싶어요 어라어ㅏㅏㅏ\")"
   ]
  },
  {
   "cell_type": "code",
   "execution_count": null,
   "metadata": {},
   "outputs": [],
   "source": []
  },
  {
   "cell_type": "code",
   "execution_count": null,
   "metadata": {},
   "outputs": [],
   "source": []
>>>>>>> origin/jiho
  }
 ],
 "metadata": {
  "kernelspec": {
<<<<<<< HEAD
   "display_name": "Python 3.10.4 64-bit",
=======
   "display_name": "Python 3.10.5 64-bit",
>>>>>>> origin/jiho
   "language": "python",
   "name": "python3"
  },
  "language_info": {
   "codemirror_mode": {
    "name": "ipython",
    "version": 3
   },
   "file_extension": ".py",
   "mimetype": "text/x-python",
   "name": "python",
   "nbconvert_exporter": "python",
   "pygments_lexer": "ipython3",
<<<<<<< HEAD
   "version": "3.10.4"
=======
   "version": "3.10.5"
>>>>>>> origin/jiho
  },
  "orig_nbformat": 4,
  "vscode": {
   "interpreter": {
<<<<<<< HEAD
    "hash": "06b946317d78ff8293764b8d6b3c20241a52e36006b001ea38a78c15611b447a"
=======
    "hash": "aee8b7b246df8f9039afb4144a1f6fd8d2ca17a180786b69acc140d282b71a49"
>>>>>>> origin/jiho
   }
  }
 },
 "nbformat": 4,
 "nbformat_minor": 2
}
