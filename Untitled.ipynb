{
 "cells": [
  {
   "cell_type": "code",
   "execution_count": 1,
   "id": "78135816",
   "metadata": {},
   "outputs": [],
   "source": [
    "from PIL import Image, ImageDraw\n",
    "import numpy as np\n",
    "import cv2\n",
    "from glob import glob \n",
    "import os\n",
    "import matplotlib.pyplot as plt\n",
    "from IPython.display import clear_output\n",
    "\n",
    "\n",
    "main_path = 'C:\\\\Users\\\\woowo\\\\Downloads\\\\instance-level-human-parsing\\\\ICCV15_fashion_dataset(ATR)\\\\humanparsing\\\\SegmentationClassAug'\n",
    "masklist = sorted(glob(os.path.join(main_path,'\\\\*.png')))\n",
    "# imlist = sorted(glob(os.path.join(main_path,'\\\\*.jpg')))"
   ]
  },
  {
   "cell_type": "code",
   "execution_count": 4,
   "id": "f8c90871",
   "metadata": {},
   "outputs": [
    {
     "data": {
      "text/plain": [
       "'C:\\\\Users\\\\woowo\\\\Downloads\\\\instance-level-human-parsing\\\\ICCV15_fashion_dataset(ATR)\\\\humanparsing\\\\SegmentationClassAug'"
      ]
     },
     "execution_count": 4,
     "metadata": {},
     "output_type": "execute_result"
    }
   ],
   "source": [
    "main_path"
   ]
  },
  {
   "cell_type": "code",
   "execution_count": 8,
   "id": "b98a84dc",
   "metadata": {},
   "outputs": [],
   "source": [
    "mm = glob(main_path+'\\\\*.png')"
   ]
  },
  {
   "cell_type": "code",
   "execution_count": 17,
   "id": "13b78ed4",
   "metadata": {},
   "outputs": [
    {
     "data": {
      "text/plain": [
       "array([0, 1], dtype=int8)"
      ]
     },
     "execution_count": 17,
     "metadata": {},
     "output_type": "execute_result"
    }
   ],
   "source": [
    "np.unique(np.array(cv2.imread(mm[0])>0, dtype='int8'))"
   ]
  },
  {
   "cell_type": "code",
   "execution_count": 18,
   "id": "ee69fca6",
   "metadata": {},
   "outputs": [
    {
     "data": {
      "text/plain": [
       "<matplotlib.image.AxesImage at 0x2311b81aa00>"
      ]
     },
     "execution_count": 18,
     "metadata": {},
     "output_type": "execute_result"
    },
    {
     "data": {
      "image/png": "[encoded data removed]",
      "text/plain": [
       "<Figure size 432x288 with 1 Axes>"
      ]
     },
     "metadata": {
      "needs_background": "light"
     },
     "output_type": "display_data"
    }
   ],
   "source": [
    "plt.imshow(np.array(cv2.imread(mm[0])>0, dtype='int8')*255)"
   ]
  }
 ],
 "metadata": {
  "kernelspec": {
   "display_name": "Python 3 (ipykernel)",
   "language": "python",
   "name": "python3"
  },
  "language_info": {
   "codemirror_mode": {
    "name": "ipython",
    "version": 3
   },
   "file_extension": ".py",
   "mimetype": "text/x-python",
   "name": "python",
   "nbconvert_exporter": "python",
   "pygments_lexer": "ipython3",
   "version": "3.9.7"
  }
 },
 "nbformat": 4,
 "nbformat_minor": 5
}
