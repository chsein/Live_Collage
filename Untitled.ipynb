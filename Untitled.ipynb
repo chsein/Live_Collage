{
 "cells": [
  {
   "cell_type": "markdown",
   "id": "0d8d341e",
   "metadata": {},
   "source": [
    "# 깃이란무엇일까\n",
    "\n",
    "그것은 어디에도있고 어디에도없구나"
   ]
  },
  {
   "cell_type": "code",
   "execution_count": 1,
   "id": "8aa9c09b",
   "metadata": {},
   "outputs": [],
   "source": [
    "import pandas as pd\n",
    "import numpy as np"
   ]
  },
  {
   "cell_type": "code",
   "execution_count": null,
   "id": "7354800a",
   "metadata": {},
   "outputs": [],
   "source": [
    "다시한번테스트  ㅡ"
   ]
  },
  {
   "cell_type": "code",
   "execution_count": null,
   "id": "03d0ab64",
   "metadata": {},
   "outputs": [],
   "source": []
  }
 ],
 "metadata": {
  "kernelspec": {
   "display_name": "Python 3.9.10 64-bit",
   "language": "python",
   "name": "python3"
  },
  "language_info": {
   "codemirror_mode": {
    "name": "ipython",
    "version": 3
   },
   "file_extension": ".py",
   "mimetype": "text/x-python",
   "name": "python",
   "nbconvert_exporter": "python",
   "pygments_lexer": "ipython3",
   "version": "3.9.10"
  },
  "vscode": {
   "interpreter": {
    "hash": "bcaa3f62f54642067d084f419e7046f1c95015a3246c5fc599e3b4da0e89bba9"
   }
  }
 },
 "nbformat": 4,
 "nbformat_minor": 5
}
