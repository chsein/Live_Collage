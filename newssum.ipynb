{
 "cells": [
  {
   "cell_type": "code",
   "execution_count": 247,
   "id": "6af37fe0",
   "metadata": {},
   "outputs": [],
   "source": [
    "from urllib.robotparser import RobotFileParser\n",
    "from requests import request, get, post\n",
    "from requests.compat import urljoin, urlparse, urlunparse , quote, unquote\n",
    "from requests.exceptions import HTTPError\n",
    "from time import sleep\n",
    "from random import randint\n",
    "from html import unescape\n",
    "import re\n",
    "from bs4 import BeautifulSoup\n",
    "from string import punctuation\n",
    "import json\n",
    "import requests\n",
    "from requests import Session\n",
    "from requests import post\n",
    "from requests.compat import urlencode\n",
    "from requests import Session\n",
    "from requests.cookies import cookiejar_from_dict\n",
    "import pandas as pd\n",
    "import time\n",
    "import datetime\n",
    "import urllib.request"
   ]
  },
  {
   "cell_type": "code",
   "execution_count": 248,
   "id": "1ae04822",
   "metadata": {},
   "outputs": [],
   "source": [
    "def contentcreate(key,sort):\n",
    "    header={\"user-agent\" :\"Mozilla/5.0 (Windows NT 10.0; Win64; x64) AppleWebKit/537.36 (KHTML, like Gecko) Chrome/103.0.0.0 Safari/537.36\"}\n",
    "    #헤더 필수\n",
    "\n",
    "    url = 'https://search.naver.com/search.naver?where=news' #뉴스 검색 url\n",
    "    \n",
    "\n",
    "    resp = request('GET', url, params={'sm':'tab_jum','query':key,'sort':sort}) #sort 0이면 관련도 순 1이면 최신순\n",
    "    \n",
    "\n",
    "    news_search = BeautifulSoup(resp.text, 'html.parser') #텍스트를 html로 전환\n",
    "    \n",
    "\n",
    "    def linkto(number):  #링크 태그 생성 함수\n",
    "        a='#sp_nws'\n",
    "        b=str(number)\n",
    "        c=' > div.news_wrap.api_ani_send > div > div.news_info > div.info_group > a:nth-child(3)'\n",
    "        return a+b+c\n",
    "   \n",
    "\n",
    "    def titleto(number):  #타이틀 태그 생성 함수\n",
    "        a='#sp_nws'\n",
    "        b=str(number)\n",
    "        c=' > div.news_wrap.api_ani_send > div > a'\n",
    "        return a+b+c\n",
    "    \n",
    "     \n",
    "    news_link2=[]  #빈리스트 생성\n",
    "    title2=[]     #빈리스트 생성\n",
    "    for count in range(1,13):\n",
    "        linktag=linkto(count)\n",
    "        titletag=titleto(count)\n",
    "        link=news_search.select_one(linktag)\n",
    "        title=news_search.select_one(titletag)\n",
    "        if link:\n",
    "            news_link2.append(link['href'])\n",
    "            title2.append(title['title'])\n",
    "\n",
    "#13번 돌려서 나온 기사 타이틀이랑 링크 리스트로 저장\n",
    "    \n",
    "\n",
    " \n",
    "    return news_link2, title2 #뉴스링크랑 제목 리스트 리턴\n"
   ]
  },
  {
   "cell_type": "code",
   "execution_count": 249,
   "id": "3327986a",
   "metadata": {},
   "outputs": [],
   "source": [
    "def titlecontent(news_link2):\n",
    "    content5=[] #빈리스트 생성\n",
    "\n",
    "    \n",
    "    for i in range(0,len(news_link2)):    \n",
    "        news = requests.get(news_link2[i],headers=header) #그 뉴스링크에 다시 접근\n",
    "        \n",
    "        news_html = BeautifulSoup(news.text,\"html.parser\") #html로 변환\n",
    "\n",
    "        if news_link2[i].find('sports')>0:\n",
    "            content=news_html.find_all('div', {'id':'newsEndContents'})  ##스포츠 일때는 sid가 없어서 1순위 확인\n",
    "            content=str(content)\n",
    "            content=content.split('<p class=\"source\">') \n",
    "            content2=content[0]\n",
    "        elif news_link2[i][-3:]=='106':\n",
    "            content=news_html.find_all('div', {'id':'articeBody'})  ##엔터테이너 일때 sid = 106\n",
    "            content2= str(content)\n",
    "        else:\n",
    "            content = news_html.select(\"div#dic_area\")  ##일반뉴스일때 sid = 100~105 반례가 있을 수 있음 여기서\n",
    "            content2= str(content)\n",
    "\n",
    "\n",
    "\n",
    "\n",
    "        def remove_image(content): #이미지 설명 제거\n",
    "            cleanr =re.compile('<em class=\"img_desc\">.*?</em>')\n",
    "            cleantext = re.sub(cleanr, '', content)\n",
    "            return cleantext\n",
    "\n",
    "        def remove_tag(content): #html태그 제거\n",
    "            cleanr =re.compile('<.*?>')\n",
    "            cleantext = re.sub(cleanr, '', content)\n",
    "            return cleantext\n",
    "\n",
    "        def remove_email(content): #이메일 제거\n",
    "            cleanr =re.compile('([a-zA-Z0-9_.+-]+@[a-zA-Z0-9-]+\\.[a-zA-Z0-9-.]+)')\n",
    "            cleantext = re.sub(cleanr, '', content)\n",
    "            return cleantext\n",
    "\n",
    "        content4=content2 #저장 혹시 모르니\n",
    "        content2= remove_image(content2) #이미지 설명 제거\n",
    "        content3= remove_email(content2)  #이메일 제거\n",
    "\n",
    "        content3=BeautifulSoup(content3) #다시 html로 \n",
    "        content3=content3.get_text() #텍스트만 추출 str\n",
    "        content3 ##본문\n",
    "\n",
    "\n",
    "        \n",
    "        content5.append(content3) #본문을 5에 리스트로 어펜드\n",
    "\n",
    "    return content5 #본문 리스트 리턴"
   ]
  },
  {
   "cell_type": "code",
   "execution_count": 250,
   "id": "eea92aa3",
   "metadata": {},
   "outputs": [],
   "source": [
    "key='김준호'\n",
    "sort='0'# 0이면 관련도순 1이면 최신순\n",
    "news_link2,title2=contentcreate(key,sort) #함수 사용\n",
    "content5 = titlecontent(news_link2) #함수 사용\n",
    "con=\" \".join(content5) #띄어쓰기 기준으로 뉴스기사 합체\n",
    "titlekeywords=con.split(' ') #띄어쓰기 기준으로 뉴스 키워드 분할"
   ]
  },
  {
   "cell_type": "code",
   "execution_count": 251,
   "id": "452278f3",
   "metadata": {},
   "outputs": [],
   "source": [
    "from selenium import webdriver\n",
    "from selenium.webdriver.chrome.service import Service\n",
    "from webdriver_manager.chrome import ChromeDriverManager\n",
    "\n",
    "\n",
    "def set_chrome_driver():\n",
    "    chrome_options = webdriver.ChromeOptions()\n",
    "    chrome_options.add_argument('--headless')\n",
    "    chrome_options.add_argument('--no-sandbox')\n",
    "    chrome_options.add_argument('--disable-dev-shm-usage')\n",
    "    chrome_options.add_argument('--lang=ko_KR')\n",
    "    chrome_options.add_argument(\"--disable-gpu\")\n",
    "    chrome_options.add_argument('--window-size=1920x1080')\n",
    "\n",
    "    # headless임을 숨기기 위해서\n",
    "    # headless인 경우 Cloudflare 서비스가 동작한다.\n",
    "    chrome_options.add_argument(\n",
    "        \"user-agent=Mozilla/5.0 (Windows NT 10.0; Win64; x64) AppleWebKit/537.36 (KHTML, like Gecko) Chrome/103.0.0.0 Safari/537.36\")\n",
    "\n",
    "    driver = webdriver.Chrome(service=Service(\n",
    "        ChromeDriverManager().install()), options=chrome_options)\n",
    "    return driver\n",
    "\n",
    "\n"
   ]
  },
  {
   "cell_type": "code",
   "execution_count": 252,
   "id": "87bb377c",
   "metadata": {},
   "outputs": [
    {
     "name": "stdout",
     "output_type": "stream",
     "text": [
      "김준호 - 나무위키\n"
     ]
    }
   ],
   "source": [
    "if __name__ == \"__main__\":\n",
    "    driver = set_chrome_driver()\n",
    "\n",
    "    url = 'https://namu.wiki/w/'+key\n",
    "    driver.get(url=url)\n",
    "    print(driver.title)\n",
    "    html = driver.page_source\n",
    "\n",
    "    driver.close()\n",
    "\n",
    "\n",
    "soup = BeautifulSoup(html)\n",
    "imglink1=soup.select_one('tr:nth-child(2) > td > div > div > a > span > span > img.JGi8zLZN')\n",
    "\n",
    "#우선 1차로 나무위키 가져옴"
   ]
  },
  {
   "cell_type": "code",
   "execution_count": 253,
   "id": "09e35ea1",
   "metadata": {},
   "outputs": [
    {
     "name": "stdout",
     "output_type": "stream",
     "text": [
      "김준호(코미디언) - 나무위키\n"
     ]
    },
    {
     "data": {
      "text/plain": [
       "'//w.namu.la/s/c3c4f54d0c9cb51b7917d5ea3c055f25f4043f2730a4fe37a53213afde02bb1c499d375f221c87ae3e63ed6b9f0b14122fa4529224b9aaef14220fdb55b7fa389b3a8fcb272a44240a324ef3296a772104828f83f6d56852eb17e99e7defdf62'"
      ]
     },
     "execution_count": 253,
     "metadata": {},
     "output_type": "execute_result"
    }
   ],
   "source": [
    "if imglink1: #있으면 이미지 링크 할당하고 끝\n",
    "    imglink=imglink1['src']\n",
    "else: #없으면...\n",
    "    q1=soup.find_all('a', {'class':'x3PmqoJp'}) #이름 + 수식어 다 가져옴\n",
    "    qqq=[] #이름 수식어 들어갈 리스트\n",
    "    \n",
    "    \n",
    "    \n",
    "    for i in range(0,int(len(q1))):\n",
    "        if q1[i]['title'][0:3]==key: #이름으로 시작하는 이름 + 수식어만 가져옴\n",
    "            qqq.append(q1[i]['title'][3:]) #수식어 부분만 다시 추출\n",
    "    \n",
    "    aaa = [0 for i in range(len(qqq))] #그만큼 빈 리스트\n",
    "    \n",
    "    for i in range(0,len(qqq)):\n",
    "        if qqq[i] in titlekeywords: #위에서 띄어 쓰기 단위로 분할한 뉴스키워드에 수식어가 있으면 플러스 1\n",
    "            aaa[i]=aaa[i]+1\n",
    "        \n",
    "        \n",
    "    key2=qqq[aaa.index(max(aaa))] #가장 많은 빈도의 수식어 추출\n",
    "    \n",
    "    key3=key+key2 #키 3에 새로운 키를 할당\n",
    "    \n",
    "    \n",
    "    if __name__ == \"__main__\": # 키 3로 다시돌림\n",
    "        driver = set_chrome_driver()\n",
    "\n",
    "        url = 'https://namu.wiki/w/'+key3\n",
    "        driver.get(url=url)\n",
    "        print(driver.title)\n",
    "        html = driver.page_source\n",
    "\n",
    "        driver.close()\n",
    "        soup = BeautifulSoup(html)\n",
    "        imglink1=soup.select_one('tr:nth-child(2) > td > div > div > a > span > span > img.JGi8zLZN')\n",
    "        imglink=imglink1['src']\n",
    "        \n",
    "           \n",
    "\n",
    "\n",
    "imglink # 생성된 이미지 링크"
   ]
  },
  {
   "cell_type": "code",
   "execution_count": 239,
   "id": "9f8f677f",
   "metadata": {},
   "outputs": [],
   "source": [
    "imglink2=\"https:\"+imglink\n",
    "resp=requests.get(imglink2)\n",
    "with open('name6.png', 'wb') as f:\n",
    "                      f.write(resp.content)  ##name이라는 이름으로 png 파일로 저장"
   ]
  },
  {
   "cell_type": "code",
   "execution_count": 254,
   "id": "11505da7",
   "metadata": {},
   "outputs": [
    {
     "name": "stdout",
     "output_type": "stream",
     "text": [
      "제목 : 김지민, 상복 입고 마지막까지 함께…김준호 부친상\n",
      "\n",
      "\n",
      "\n",
      " 본문 : [\n",
      " \n",
      "[서울=뉴시스] 최지윤 기자 = 코미디언 김지민(38)이 남자친구인 김준호(47) 부친상 마지막까지 함께 한다.8일 두 사람 소속사 JDB엔터테인먼트에 따르면, 김지민은 김준호 아버지 김기용(75)씨 장례 첫날인 6일부터 상복을 입고 조문객을 맞았다. 이날 오전 10시 서울 신촌세브란스병원 장례식장에서 진행하는 발인에도 참석, 고인의 마지막 가는 길을 배웅한다. 김씨는 5일 오후 별세했다. 오랫동안 지병을 앓은 것으로 전해졌다. 장지는 천안공원묘원이다.김준호는 1996년 SBS 5기 공채 개그맨으로 데뷔했다. 1999년 KBS 14기 특채 개그맨으로 발탁, 2TV '개그콘서트' 등에서 활약했다. 올해 4월 KBS 후배 김지민과 열애를 인정했다. 당시 양측은 \"최근 교제를 시작했다. 진지한 만남을 이어가고 있다\"며 \"김준호가 힘든 일이 있을 때마다 김지민의 위로가 큰 힘이 됐다. 선후배 관계를 이어오다 얼마 전부터 연인 사이로 발전했다. 앞으로 좋은 만남 이어갈 수 있도록 많은 응원 부탁드린다\"고 청했다.\n",
      "]\n"
     ]
    }
   ],
   "source": [
    "print(\"제목 : \" + title2[0] + \"\\n\\n\\n\\n 본문 : \" + content5[0])"
   ]
  },
  {
   "cell_type": "code",
   "execution_count": null,
   "id": "79311551",
   "metadata": {},
   "outputs": [],
   "source": []
  }
 ],
 "metadata": {
  "kernelspec": {
   "display_name": "Python 3 (ipykernel)",
   "language": "python",
   "name": "python3"
  },
  "language_info": {
   "codemirror_mode": {
    "name": "ipython",
    "version": 3
   },
   "file_extension": ".py",
   "mimetype": "text/x-python",
   "name": "python",
   "nbconvert_exporter": "python",
   "pygments_lexer": "ipython3",
   "version": "3.9.7"
  }
 },
 "nbformat": 4,
 "nbformat_minor": 5
}
