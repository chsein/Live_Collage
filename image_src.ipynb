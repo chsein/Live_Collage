{
 "cells": [
  {
   "cell_type": "code",
   "execution_count": 11,
   "id": "ed216fc4",
   "metadata": {},
   "outputs": [],
   "source": [
    "from urllib.robotparser import RobotFileParser\n",
    "from requests import request, get, post\n",
    "from requests.compat import urljoin, urlparse, urlunparse , quote, unquote\n",
    "from requests.exceptions import HTTPError\n",
    "from time import sleep\n",
    "from random import randint\n",
    "from html import unescape\n",
    "import re\n",
    "from bs4 import BeautifulSoup\n",
    "from string import punctuation\n",
    "import json\n",
    "import requests\n",
    "from requests import Session\n",
    "from requests import post\n",
    "from requests.compat import urlencode\n",
    "from requests import Session\n",
    "from requests.cookies import cookiejar_from_dict\n",
    "import pandas as pd\n",
    "import time\n",
    "import datetime\n",
    "import urllib.request"
   ]
  },
  {
   "cell_type": "code",
   "execution_count": 12,
   "id": "373e624c",
   "metadata": {},
   "outputs": [],
   "source": [
    "key='한지민'"
   ]
  },
  {
   "cell_type": "code",
   "execution_count": 13,
   "id": "906f0bc4",
   "metadata": {},
   "outputs": [
    {
     "name": "stdout",
     "output_type": "stream",
     "text": [
      "한지민 - 나무위키\n"
     ]
    }
   ],
   "source": [
    "from selenium import webdriver\n",
    "from selenium.webdriver.chrome.service import Service\n",
    "from webdriver_manager.chrome import ChromeDriverManager\n",
    "\n",
    "\n",
    "def set_chrome_driver():\n",
    "    chrome_options = webdriver.ChromeOptions()\n",
    "    chrome_options.add_argument('--headless')\n",
    "    chrome_options.add_argument('--no-sandbox')\n",
    "    chrome_options.add_argument('--disable-dev-shm-usage')\n",
    "    chrome_options.add_argument('--lang=ko_KR')\n",
    "    chrome_options.add_argument(\"--disable-gpu\")\n",
    "    chrome_options.add_argument('--window-size=1920x1080')\n",
    "\n",
    "    # headless임을 숨기기 위해서\n",
    "    # headless인 경우 Cloudflare 서비스가 동작한다.\n",
    "    chrome_options.add_argument(\n",
    "        \"user-agent=Mozilla/5.0 (Windows NT 10.0; Win64; x64) AppleWebKit/537.36 (KHTML, like Gecko) Chrome/103.0.0.0 Safari/537.36\")\n",
    "\n",
    "    driver = webdriver.Chrome(service=Service(\n",
    "        ChromeDriverManager().install()), options=chrome_options)\n",
    "    return driver\n",
    "\n",
    "\n",
    "if __name__ == \"__main__\":\n",
    "    driver = set_chrome_driver()\n",
    "\n",
    "    url = 'https://namu.wiki/w/'+key\n",
    "    driver.get(url=url)\n",
    "    print(driver.title)\n",
    "    html = driver.page_source\n",
    "\n",
    "    driver.close()"
   ]
  },
  {
   "cell_type": "code",
   "execution_count": 14,
   "id": "8ddd9847",
   "metadata": {},
   "outputs": [],
   "source": [
    "soup = BeautifulSoup(html)"
   ]
  },
  {
   "cell_type": "code",
   "execution_count": 15,
   "id": "aebb7b88",
   "metadata": {},
   "outputs": [],
   "source": [
    "imglink = soup.select_one('tr:nth-child(2) > td > div > div > a > span > span > img.JGi8zLZN')['src']"
   ]
  },
  {
   "cell_type": "code",
   "execution_count": 16,
   "id": "d927a0c4",
   "metadata": {
    "scrolled": false
   },
   "outputs": [
    {
     "name": "stdout",
     "output_type": "stream",
     "text": [
      "//w.namu.la/s/9ece3ff62c637eb5934fe84c6c527bdec7dca49425cd6ca60dbd3a09c821f74bf074a763d1adab8f0e7d99e254d28121d3dc69822c4d7f8903745362db8be8db476b6968f5f8027b14dbb4bfba7f75b8d11da003950541c4ed7611af3b5d7276c902e14cbda66e46054203cabf3b4764\n"
     ]
    }
   ],
   "source": [
    "print(imglink) ## 소스링크"
   ]
  },
  {
   "cell_type": "code",
   "execution_count": null,
   "id": "d30fdc2f",
   "metadata": {},
   "outputs": [],
   "source": []
  }
 ],
 "metadata": {
  "kernelspec": {
   "display_name": "Python 3 (ipykernel)",
   "language": "python",
   "name": "python3"
  },
  "language_info": {
   "codemirror_mode": {
    "name": "ipython",
    "version": 3
   },
   "file_extension": ".py",
   "mimetype": "text/x-python",
   "name": "python",
   "nbconvert_exporter": "python",
   "pygments_lexer": "ipython3",
   "version": "3.9.7"
  }
 },
 "nbformat": 4,
 "nbformat_minor": 5
}
