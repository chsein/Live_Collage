{
 "cells": [
  {
   "cell_type": "code",
   "execution_count": 1,
   "id": "f53ab2e3",
   "metadata": {},
   "outputs": [],
   "source": [
    "from urllib.robotparser import RobotFileParser\n",
    "from requests import request, get, post\n",
    "from requests.compat import urljoin, urlparse, urlunparse , quote, unquote\n",
    "from requests.exceptions import HTTPError\n",
    "from time import sleep\n",
    "from random import randint\n",
    "from html import unescape\n",
    "import re\n",
    "from bs4 import BeautifulSoup\n",
    "from string import punctuation\n",
    "import json\n",
    "import requests\n",
    "from requests import Session\n",
    "from requests import post\n",
    "from requests.compat import urlencode\n",
    "from requests import Session\n",
    "from requests.cookies import cookiejar_from_dict\n",
    "import pandas as pd\n",
    "import time"
   ]
  },
  {
   "cell_type": "code",
   "execution_count": 126,
   "id": "be15a258",
   "metadata": {},
   "outputs": [],
   "source": [
    "key='어벤저스'"
   ]
  },
  {
   "cell_type": "code",
   "execution_count": 127,
   "id": "2530bff9",
   "metadata": {},
   "outputs": [
    {
     "data": {
      "text/plain": [
       "'https://n.news.naver.com/mnews/article/421/0006259582?sid=105'"
      ]
     },
     "execution_count": 127,
     "metadata": {},
     "output_type": "execute_result"
    }
   ],
   "source": [
    "header={\"user-agent\" :\"Mozilla/5.0 (Windows NT 10.0; Win64; x64) AppleWebKit/537.36 (KHTML, like Gecko) Chrome/103.0.0.0 Safari/537.36\"}\n",
    "url = 'https://search.naver.com/search.naver?where=news'\n",
    "resp = request('GET', url, params={'sm':'tab_jum','query':key,'sort':'0'}) #sort 0이면 관련도 순 1이면 최신순\n",
    "news_search = BeautifulSoup(resp.text, 'html.parser')\n",
    "link=news_search.select_one('#sp_nws1 > div.news_wrap.api_ani_send > div > div.news_info > div.info_group > a:nth-child(3)')\n",
    "news_link2 = link['href']\n",
    "news_link2"
   ]
  },
  {
   "cell_type": "code",
   "execution_count": 128,
   "id": "52c946e6",
   "metadata": {},
   "outputs": [],
   "source": [
    "news = requests.get(news_link2,headers=header)\n",
    "news_html = BeautifulSoup(news.text,\"html.parser\")"
   ]
  },
  {
   "cell_type": "code",
   "execution_count": 129,
   "id": "ed232f2e",
   "metadata": {},
   "outputs": [],
   "source": [
    "if news_link2.find('sports')>0:\n",
    "    content=news_html.find_all('div', {'id':'newsEndContents'})  ##스포츠 일때\n",
    "elif news_link2[-3:]=='106':\n",
    "    content=news_html.find_all('div', {'id':'articeBody'})  ##엔터테이너 일때 sid = 106\n",
    "else:\n",
    "    content = news_html.select(\"div#dic_area\")  ##일반뉴스일때 sid = 100~105\n",
    "    \n",
    "\n",
    "#반례가 있을 수 있음"
   ]
  },
  {
   "cell_type": "code",
   "execution_count": 130,
   "id": "c3112f3a",
   "metadata": {},
   "outputs": [
    {
     "name": "stdout",
     "output_type": "stream",
     "text": [
      "제목 : \n",
      "\"UAM 핵심은 서비스…'디지코' 변신 KT 경쟁력 있어\"\n",
      "\n",
      "\n",
      "\n",
      "본문 : [\n",
      "[인터뷰] 김봉기 KT 융합기술원 컨버전스연구소장\"UAM 서비스 경쟁력 충분해…어벤져스 컨소시엄으로 K-UAM 사업 참여\"\n",
      "\n",
      "\n",
      "\n",
      "김봉기 KT 융합기술원 컨버전스연구소장(상무)가 4일 서울 서초구 KT우면연구센터에서 KT의 UAM 준비 현황을 발표했다. (KT 제공)(서울=뉴스1) 이기범 기자 = \"KT가 도심항공교통(UAM)을 바라보고 있는 이유는 간단하다. UAM 초기 시장은 기체나 인프라 시장으로 보이지만 핵심은 서비스 시장이고, KT는 최근 3년간 디지코(DIGICO, 디지털플랫폼기업)으로 변신하면서 서비스 역량을 강화해왔다.\"KT가 UAM 사업에 본격적으로 나선다. KT뿐만 아니라 이동통신 3사 모두 국토교통부의 한국형 도심항공교통(K-UAM) 실증사업에 뛰어들며 2025년 하늘길을 여는 것을 목표로 하고 있다. 김봉기 KT 융합기술원 컨버전스연구소장(상무)는 4일 서울 서초구 KT우면연구센터에서 언론사들과 그룹 인터뷰를 갖고 KT의 UAM 상용화 준비 현황을 소개했다.◇\"UAM 핵심은 서비스, KT는 준비된 디지털 플랫폼 기업\"UAM은 전기로 구동하는 비행체 기반의 항공 이동 서비스로, 도심에서 활주로 없이 수직 이착륙이 가능하고 다양한 육상 교통 수단과 연계가 가능한 친환경 이동 수단을 일컫는다.김봉기 소장은 \"UAM은 서비스가 핵심이라고 본다\"며 \"KT는 가장 서비스를 잘하는 기업으로, 여기에 주목했고 최근 3년간 디지코 서비스 매출 비중이 40%까지 확대되는 등 체질 변화를 통해 새로운 서비스를 잘하고 있다\"고 말했다.이어 \"UAM은 도심에서 운영하는 항공 서비스이기 때문에 안정성과 편리성이 중요한데, KT만의 경쟁력은 여기에 있다\"며 \"KT는 실 비행체 대상으로 300개 이상 관제 기술 확보하고 있고, 운행 중 끊김 없는 통신 서비스를 위해 5G와 위성을 결합한 실증을 비롯해 도·감청 없는 양자암호통신 기술 등 디지코 서비스에서 증명했듯 최고의 기술을 보유하고 있다\"고 강조했다.KT는 UAM을 제조, 통신, 운송 서비스 분야에서 범국가적인 경쟁력을 만드는 사업으로 보고 있다. 2040년이 되면 서비스가 전체 UAM 시장의 75%를 차지할 것으로 내다보고 이에 대한 서비스 경쟁력을 갖췄다는 게 KT의 설명이다.예를 들어 국내 최대 규모의 AI 기반 고객센터(AICC)를 구축한 경험을 바탕으로 24시간 예약 상담이 가능한 UAM 서비스를 운영하고, 국내 운송사업자들과 협력을 통해 1000만건의 데이터를 확보한 디지털 물류 기술에 기반해 최적의 UAM 경로를 만드는 게 가능하다는 얘기다.또 사람과 차량, 도로를 연결하는 AI 모빌리티 기술과 모빌리티 데이터 기반 스마트 교통 서비스를 제공하고 있어 UAM 서비스 제공에 최적화됐다는 점을 들고 있다.'티맵'을 보유한 SK텔레콤 등 경쟁사와 비교해 지상 교통 서비스와 연동될 수 있는 모빌리티 플랫폼 서비스가 부족하다는 지적에 대해 김 소장은 \"KT는 B2B(기업 간 거래) 모빌리티 분야에 집중해왔고, 상대적으로 B2C(기업과 소비자 간 거래) 모빌리티 플랫폼에 약하다고 보는 게 현실인 거 같다\"면서도 \"중요한 건 UAM에 있어서 하나의 기업이 모든 걸 하긴 힘들고, KT가 잘하는 건 협업이기 때문에 지상 모빌리티 분야는 문호를 열어 놓고 협업할 준비를 하고 있다\"고 말했다.\n",
      "\n",
      "\n",
      "\n",
      "김봉기 KT 융합기술원 컨버전스연구소장(상무)는 UAM 사업을 위한 양자암호통신, 5G-위성 하이브리드 서비스 등 통신 기술 경쟁력을 강조했다. (KT 제공)◇\"통신 보안·끊김 없는 통신 서비스 중요해\"또한, 김 소장은 UAM을 위해 안정적인 통신 보안과 끊김 없는 통신 서비스가 중요하다고 짚었다.KT는 중간에서 정보가 탈취되는 것을 막기 위해 국내 1km 구간에서 무선 양자암호통신을 실증한 경험을 바탕으로 UAM 서비스에 무선 양자암호기술을 적용하고, 고도 300~600m 구간에서 통신이 끊기는 것을 막기 위해 5G와 저궤도 위성 서비스를 결합한 하이브리드 통신 기술을 제공할 계획이다.이번 그룹 인터뷰에 함께 참여한 이원열 KT 융합기술원 통합인프라기술담당 상무보는 \"KT SAT는 이미 5G-위성 하이브리드 통신 기술을 상용화했다\"며 \"(UAM이) 5G 커버리지 밖이나 공중에선 위성으로 통신하고, 5G 커버리지에 들어오면 위성과 5G를 병합해서 통신하는 방식으로 자동으로 전환될 수 있는 하이브리드 통신이 가능해진다\"고 설명했다.이와 함께 KT는 다수의 무인비행체를 대상으로 교통 관리와 관련한 실증을 300회 이상 진행해 관제 안정성을 확보했다는 점, UAM 운항 상황을 예측할 수 있는 AI 기반 트윈 기술 역량을 보유했다는 점을 강조했다.◇\"UAM 어벤져스 기업으로 꾸려진 컨소시엄\"KT는 현대자동차, 인천공항공사, 대한항공, 현대건설 등과 컨소시엄을 구성해 협력하고 있다. KT는 관제, 통신 분야 중점을 두고 준비 중이며, 현대자동차는 기체 분야, 현대건설은 UAM 전용 공항인 버티포트, 인천공항공사는 항공 인프라 분야, 대한항공은 서비스 분야를 맡고 있다.이에 대해 김 소장은 \"KT가 참여하는 K-UAM 컨소시엄은 각자 분야에서 1위 사업자로 구성된 UAM 어벤져스 기업이라고 할 수 있다\"며 \"현대자동차는 UAM 분야에서 필요한 독보적 기술 갖고 있으며, 인천공항공사는 인프라 운용을 가장 잘 할 수 있는 기업, 대한항공은 항공 서비스 분야 1위 기업, 현대건설은 도로 인프라를 포함해 공항 인프라를 가장 많이 건설한 기업이다\"고 경쟁력을 짚었다.이어 \"UAM 사업에 영원한 경쟁은 없을 거고, 상용화 시점에 사업자 간 합종연횡이 자연스럽게 생기지 않을까 생각한다\"고 밝혔다.한편, 정부는 2025년 하늘길을 여는 것을 목표로 K-UAM 상용화를 위한 실증사업을 진행하고 있다. 국토교통부가 주관하는 '한국형 도심항공교통 그랜드챌린지 1단계 실증사업'(K-UAM GC1)에는 KT를 비롯해 통신 3사 모두 각각 컨소시엄을 꾸려 제안서를 제출한 상태다.\n",
      "\t\t]\n"
     ]
    }
   ],
   "source": [
    "content2= str(content)\n",
    "\n",
    "import re\n",
    "\n",
    "def remove_tag(content):\n",
    "    cleanr =re.compile('<.*?>')\n",
    "    cleantext = re.sub(cleanr, '', content)\n",
    "    return cleantext\n",
    "\n",
    "content3= remove_tag(content2)\n",
    "content3 ##본문\n",
    "\n",
    "news=news_search.select_one('#sp_nws1 > div.news_wrap.api_ani_send > div > a')\n",
    "news_title = news['title']\n",
    "news_title ##제목\n",
    "\n",
    "\n",
    "print(\"제목 : \\n\"+news_title+\"\\n\\n\\n\\n본문 : \"+content3)\n",
    "\n"
   ]
  }
 ],
 "metadata": {
  "kernelspec": {
   "display_name": "Python 3 (ipykernel)",
   "language": "python",
   "name": "python3"
  },
  "language_info": {
   "codemirror_mode": {
    "name": "ipython",
    "version": 3
   },
   "file_extension": ".py",
   "mimetype": "text/x-python",
   "name": "python",
   "nbconvert_exporter": "python",
   "pygments_lexer": "ipython3",
   "version": "3.9.7"
  }
 },
 "nbformat": 4,
 "nbformat_minor": 5
}
